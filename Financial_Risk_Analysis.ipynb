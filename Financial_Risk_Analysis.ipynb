{
 "cells": [
  {
   "cell_type": "markdown",
   "id": "d9592eb7",
   "metadata": {},
   "source": [
    "# 💸 Financial Risk Analysis & Forecasting\n",
    "This notebook demonstrates data preprocessing, exploratory analysis, revenue forecasting, and credit risk modeling using a synthetic financial dataset."
   ]
  },
  {
   "cell_type": "code",
   "execution_count": null,
   "id": "1d7b8862",
   "metadata": {},
   "outputs": [],
   "source": [
    "import pandas as pd\n",
    "import numpy as np\n",
    "import matplotlib.pyplot as plt\n",
    "import seaborn as sns\n",
    "from sklearn.model_selection import train_test_split\n",
    "from sklearn.linear_model import LogisticRegression\n",
    "from sklearn.tree import DecisionTreeClassifier\n",
    "from sklearn.metrics import classification_report, confusion_matrix\n",
    "\n",
    "# Set global visual theme\n",
    "sns.set(style='whitegrid')\n"
   ]
  },
  {
   "cell_type": "code",
   "execution_count": null,
   "id": "cafa0ccf",
   "metadata": {},
   "outputs": [],
   "source": [
    "# Load dataset\n",
    "df = pd.read_csv(\"data/synthetic_transactions.csv\")\n",
    "df['Date'] = pd.to_datetime(df['Date'])\n",
    "df.head()"
   ]
  },
  {
   "cell_type": "code",
   "execution_count": null,
   "id": "82a7f058",
   "metadata": {},
   "outputs": [],
   "source": [
    "# Add Month column\n",
    "df['Month'] = df['Date'].dt.to_period('M').astype(str)\n",
    "\n",
    "# Monthly revenue trend\n",
    "monthly_revenue = df.groupby('Month')['Amount'].sum().reset_index()\n",
    "\n",
    "# Plotting\n",
    "plt.figure(figsize=(10, 5))\n",
    "sns.lineplot(data=monthly_revenue, x='Month', y='Amount', marker='o')\n",
    "plt.title(\"Monthly Revenue Trend\")\n",
    "plt.xlabel(\"Month\")\n",
    "plt.ylabel(\"Total Revenue\")\n",
    "plt.xticks(rotation=45)\n",
    "plt.tight_layout()\n",
    "plt.show()"
   ]
  },
  {
   "cell_type": "code",
   "execution_count": null,
   "id": "d075b56b",
   "metadata": {},
   "outputs": [],
   "source": [
    "# Prepare features and target\n",
    "features = df[['Amount', 'CreditScore']]\n",
    "target = df['Defaulted']\n",
    "\n",
    "# Train-test split\n",
    "X_train, X_test, y_train, y_test = train_test_split(features, target, test_size=0.2, stratify=target, random_state=42)"
   ]
  },
  {
   "cell_type": "code",
   "execution_count": null,
   "id": "e67a037c",
   "metadata": {},
   "outputs": [],
   "source": [
    "# Logistic Regression\n",
    "lr_model = LogisticRegression()\n",
    "lr_model.fit(X_train, y_train)\n",
    "lr_preds = lr_model.predict(X_test)\n",
    "\n",
    "print(\"Logistic Regression Report:\")\n",
    "print(classification_report(y_test, lr_preds))"
   ]
  },
  {
   "cell_type": "code",
   "execution_count": null,
   "id": "bc3a4223",
   "metadata": {},
   "outputs": [],
   "source": [
    "# Decision Tree Classifier\n",
    "dt_model = DecisionTreeClassifier(max_depth=5)\n",
    "dt_model.fit(X_train, y_train)\n",
    "dt_preds = dt_model.predict(X_test)\n",
    "\n",
    "print(\"Decision Tree Classification Report:\")\n",
    "print(classification_report(y_test, dt_preds))"
   ]
  },
  {
   "cell_type": "code",
   "execution_count": null,
   "id": "8bc4c884",
   "metadata": {},
   "outputs": [],
   "source": [
    "# Confusion Matrix\n",
    "conf_matrix = confusion_matrix(y_test, dt_preds)\n",
    "\n",
    "plt.figure(figsize=(6, 4))\n",
    "sns.heatmap(conf_matrix, annot=True, fmt=\"d\", cmap=\"Blues\", \n",
    "            xticklabels=[\"No Default\", \"Default\"],\n",
    "            yticklabels=[\"No Default\", \"Default\"])\n",
    "plt.title(\"Confusion Matrix - Decision Tree\")\n",
    "plt.xlabel(\"Predicted\")\n",
    "plt.ylabel(\"Actual\")\n",
    "plt.tight_layout()\n",
    "plt.show()"
   ]
  },
  {
   "cell_type": "markdown",
   "id": "a7beb1b2",
   "metadata": {},
   "source": [
    "## ✅ Summary\n",
    "- Cleaned and explored synthetic transaction data.\n",
    "- Forecasted revenue trends using time series aggregation.\n",
    "- Built two credit risk models: Logistic Regression and Decision Tree.\n",
    "- Achieved high classification performance for detecting defaults.\n"
   ]
  }
 ],
 "metadata": {},
 "nbformat": 4,
 "nbformat_minor": 5
}
